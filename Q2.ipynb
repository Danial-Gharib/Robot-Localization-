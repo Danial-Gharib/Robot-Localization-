{
 "cells": [
  {
   "attachments": {},
   "cell_type": "markdown",
   "metadata": {},
   "source": [
    "# <center>پیدا کردن ربات</center>\n",
    "\n",
    "<div dir=\"rtl\" style=\"font-size:18px\">\n",
    "احتمالا کارتون WALL-E را بخاطر دارید. رباتی که توانست زمین را نجات دهد و باقیمانده نسل انسان‌ها را به زمین برگرداند. پس از بازگشت انسان‌ها به زمین و پس از محبوبیت زیاد WALL-E، او دوستان زیادی پیدا کرد. بهترین دوست او WALL-F یکی از بازیگوش‌ترین ربات‌هایی است که تاحالا دیده‌اید.\n",
    "<br>\n",
    "یکی از دفعاتی که WALL-F به بیرون رفته بود، راهی به درون یک هزار‌تو میابد. تصویر زیر از او در این هزارتو گرفته شده است.\n",
    "</div>\n",
    "<br>\n",
    "<br>\n",
    "<center>\n",
    "\n",
    "![WALL-F Ai-Generated](Assets/robot.jpg)\n",
    "\n",
    "</center>"
   ]
  },
  {
   "attachments": {},
   "cell_type": "markdown",
   "metadata": {},
   "source": [
    "<div dir=\"rtl\">\n",
    "در ادامه میخواهیم با روش‌های مختلفی پیدا کنیم که در حال حاضر ربات در چه خانه‌ای قرار دارد. در هرکدام از تست‌کیس‌هایی که لازم است بررسی کنید. خانه 0 و 0 خانه بالا و چپ هزارتو خواهد بود. در ادامه برای هر خانه مشخص خواهد شد که دیواری به هرکدام از جهات دارد یا خیر. \n",
    "به طور مثال عبارت\n",
    "''R L''\n",
    "به این معنی است که این خانه فقط به چپ و راست خود راه دارد. همچنین شماره‌گذاری خانه‌ها به صورت زیر است.\n",
    "در هر مرحله او به شما میگوید که در کدام خانه از جدول است. عددی که ربات به شما میگوید یک عدد تصادفی است که در یک ماتریس به شما داده میشود. عدد سطر \n",
    "$i$ \n",
    "و ستون \n",
    "$j$ \n",
    "احتمال این را نشان می‌دهد که ربات در خانه \n",
    "$i$ \n",
    "باشد اما خانه \n",
    "$j$ \n",
    "را شما گزارش دهد. این ربات در پایان هر مرحله با احتمال برابر به یکی از خانه‌های مجاور میرود. همینطور خانه شروع این ربات هم توزیعی یکنواخت دارد.\n",
    "</div>\n",
    "<br>\n",
    "<br>\n",
    "<center>\n",
    "\n",
    "![grid](Assets/grid.jpg)\n",
    "\n",
    "</center>"
   ]
  },
  {
   "attachments": {},
   "cell_type": "markdown",
   "metadata": {},
   "source": [
    "<div dir=\"rtl\">\n",
    "در ابتدا برای پیاده‌سازی ۲ الگوریتمی که در ادامه خواهید دید به آبجکتی از نوع Grid نیاز خواهید داشت. عملکرد این آبجکت را میتوانید از مسیر Assets/helpers.py ببینید. به طور مثال هزارتو زیر را در نظر بگیرید.\n",
    "</div>\n",
    "\n",
    "<center>\n",
    "\n",
    "![maze](Assets/grid2.jpg)\n",
    "\n",
    "</center>"
   ]
  },
  {
   "attachments": {},
   "cell_type": "markdown",
   "metadata": {},
   "source": [
    "<div dir=\"rtl\">\n",
    "grid متناظر با این هزارتو را میتوانید از طریق تابع get_sample_grid بگیرید و با توابع آن آشنا شوید. در صورت لزوم میتوانید هر تابع دلخواهی به این کلاس اضافه کنید. برای اطلاع از تعداد سطرهای grid میتوانید از grid.n و برای اطلاع از تعداد ستون‌ها میتوانید از grid.m استفاده کنید.\n",
    "</div>"
   ]
  },
  {
   "cell_type": "code",
   "execution_count": 11,
   "metadata": {},
   "outputs": [],
   "source": [
    "from Assets.helpers import get_sample_grid"
   ]
  },
  {
   "cell_type": "code",
   "execution_count": 12,
   "metadata": {},
   "outputs": [],
   "source": [
    "grid = get_sample_grid()"
   ]
  },
  {
   "attachments": {},
   "cell_type": "markdown",
   "metadata": {},
   "source": [
    "# Particle Filtering"
   ]
  },
  {
   "attachments": {},
   "cell_type": "markdown",
   "metadata": {},
   "source": [
    "<div dir=\"rtl\">\n",
    "در این قسمت باید آخرین خانه‌ای که این ربات در آن قرار دارد را با استفاده از الگوریتم Particle Filtering پیدا کنید. برای اینکار در ابتدا تعداد Particle هایی با تعدادی از اردر تعداد خانه‌های هزارتو بسازید. در پایان هر مرحله جمعیت را با توجه به وزن آنها نصف کنید و ذراتی جدید متناسب با تعداد ذرات درون هرخانه بسازید. در پایان خانه‌ای که بیشترین ذرات در آن قرار دارد را برگردانید.\n",
    "</div>"
   ]
  },
  {
   "cell_type": "code",
   "execution_count": 33,
   "metadata": {},
   "outputs": [],
   "source": [
    "import numpy as np \n",
    "import copy\n",
    "def PF(grid, prob, obs):\n",
    "    \"\"\"\n",
    "    input:\n",
    "\n",
    "    grid: object of type Grid\n",
    "    obs: array of ints, each one is an observation\n",
    "\n",
    "    output: \n",
    "    number of the last cell\n",
    "    \"\"\"\n",
    "\n",
    "    num_cells = grid.n * grid.m\n",
    "    num_samples = num_cells * 10\n",
    "\n",
    "    particles = np.random.choice(num_cells, size=num_samples, replace=True)\n",
    "\n",
    "    for ev in obs:\n",
    "        \n",
    "        # elapse\n",
    "        particles = np.array([grid.get_neighbors(tile)[np.random.choice(len(grid.get_neighbors(tile)))]\n",
    "                              for tile in particles])\n",
    "        \n",
    "        # update weights\n",
    "        weights = [prob[p][ev] for p in particles]\n",
    "        weights /= np.sum(weights)\n",
    "\n",
    "        # resample\n",
    "        replace_indices = np.random.choice(num_samples, size=num_samples // 2, replace=False)\n",
    "        particles_cpy = particles.copy()\n",
    "        particles[replace_indices] = np.random.choice(particles, size=num_samples // 2, replace=True, p=weights)\n",
    "        # indices = np.random.choice(np.arange(num_samples), size=num_samples, replace=True, p=weights)\n",
    "        # particles = particles[indices]\n",
    "\n",
    "    return np.argmax(np.bincount(particles))\n",
    "    pass"
   ]
  },
  {
   "cell_type": "code",
   "execution_count": 39,
   "metadata": {},
   "outputs": [
    {
     "name": "stdout",
     "output_type": "stream",
     "text": [
      "PF PASSED!\n"
     ]
    }
   ],
   "source": [
    "from Assets.helpers import PF_checker\n",
    "PF_checker(PF)"
   ]
  },
  {
   "attachments": {},
   "cell_type": "markdown",
   "metadata": {},
   "source": [
    "# HMM"
   ]
  },
  {
   "attachments": {},
   "cell_type": "markdown",
   "metadata": {},
   "source": [
    "<div dir=\"rtl\">\n",
    "در این قسمت غیر از اینکه باید بفهمیم WALL-F در کدام خانه قرار دارد. میخواهیم بدانیم که محتمل‌ترین مسیری که طی کرده‌ است چه مسیری است. برای اینکار الگوریتم viterbi را پیاده‌سازی کنید.\n",
    "</div>"
   ]
  },
  {
   "cell_type": "code",
   "execution_count": 15,
   "metadata": {},
   "outputs": [],
   "source": [
    "def viterbi(grid, prob, obs):\n",
    "    \"\"\"\n",
    "    input:\n",
    "\n",
    "    grid: object of type Grid\n",
    "    obs: array of ints, each one is an observation\n",
    "\n",
    "    output: \n",
    "    array of cell numbers, same shape as obs\n",
    "    \"\"\"\n",
    "    num_cells = grid.n * grid.m\n",
    "    num_obsv = len(obs)\n",
    "    \n",
    "    viterbi = [{}]\n",
    "    sequence = {}\n",
    "\n",
    "    for state in range(num_cells):\n",
    "      viterbi[0][state] = prob[state][obs[0]] / num_cells\n",
    "      sequence[state] = [state]\n",
    "    \n",
    "    for o in range(1, num_obsv):\n",
    "      viterbi.append({})\n",
    "      path = {}\n",
    "\n",
    "      for state in range(num_cells):\n",
    "        pr = -1\n",
    "        t = -1\n",
    "        for s0 in grid.get_neighbors(state):\n",
    "          tmp = viterbi[o - 1][s0] * prob[state][obs[o]] / len(grid.get_neighbors(s0))\n",
    "          if tmp > pr:\n",
    "            pr = tmp\n",
    "            t = s0\n",
    "        viterbi[o][state] = pr\n",
    "        path[state] = sequence[t] + [state]\n",
    "      \n",
    "      sequence = path\n",
    "    n = 0\n",
    "    if len(obs) != 1:\n",
    "      n = num_obsv - 1\n",
    "    (pr, state) = max((viterbi[n][y], y) for y in range(num_cells))\n",
    "    return sequence[state]\n",
    "\n",
    "\n",
    "\n",
    "    pass"
   ]
  },
  {
   "cell_type": "code",
   "execution_count": 16,
   "metadata": {},
   "outputs": [
    {
     "name": "stdout",
     "output_type": "stream",
     "text": [
      "VITERBI PASSED!\n"
     ]
    }
   ],
   "source": [
    "from Assets.helpers import viterbi_checker\n",
    "viterbi_checker(viterbi)"
   ]
  }
 ],
 "metadata": {
  "kernelspec": {
   "display_name": "Python 3",
   "language": "python",
   "name": "python3"
  },
  "language_info": {
   "codemirror_mode": {
    "name": "ipython",
    "version": 3
   },
   "file_extension": ".py",
   "mimetype": "text/x-python",
   "name": "python",
   "nbconvert_exporter": "python",
   "pygments_lexer": "ipython3",
   "version": "3.11.4"
  },
  "orig_nbformat": 4
 },
 "nbformat": 4,
 "nbformat_minor": 2
}
